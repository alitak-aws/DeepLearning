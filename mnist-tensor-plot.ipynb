{
 "cells": [
  {
   "cell_type": "markdown",
   "metadata": {},
   "source": [
    "# Visualizing Debugging Tensors of MXNet training"
   ]
  },
  {
   "cell_type": "markdown",
   "metadata": {},
   "source": [
    "### Overview"
   ]
  },
  {
   "cell_type": "markdown",
   "metadata": {},
   "source": [
    "SageMaker Debugger is a new capability of Amazon SageMaker that allows debugging machine learning models. \n",
    "It lets you go beyond just looking at scalars like losses and accuracies during training and gives \n",
    "you full visibility into all the tensors 'flowing through the graph' during training. SageMaker Debugger helps you to monitor your training in near real time using rules and would provide you alerts, once it has detected an inconsistency in the training flow.\n",
    "\n",
    "Using SageMaker Debugger is a two step process: Saving tensors and Analysis. In this notebook we will run an MXNet training job and configure SageMaker Debugger to store all tensors from this job. Afterwards we will visualize those tensors in our notebook.\n"
   ]
  },
  {
   "cell_type": "markdown",
   "metadata": {},
   "source": [
    "### Dependencies\n",
    "Before we begin, let us install the library plotly if it is not already present in the environment.\n",
    "If the below cell installs the library for the first time, you'll have to restart the kernel and come back to the notebook. In addition to that, in order for our vizualiation to access tensors let's install smdebug - debugger library that provides API access to tensors emitted during training job."
   ]
  },
  {
   "cell_type": "code",
   "execution_count": 1,
   "metadata": {},
   "outputs": [
    {
     "name": "stdout",
     "output_type": "stream",
     "text": [
      "Requirement already up-to-date: nbformat in /usr/local/lib/python3.6/site-packages (5.1.3)\n",
      "Requirement already satisfied, skipping upgrade: jupyter-core in /usr/local/lib/python3.6/site-packages (from nbformat) (4.7.1)\n",
      "Requirement already satisfied, skipping upgrade: jsonschema!=2.5.0,>=2.4 in /usr/local/lib/python3.6/site-packages (from nbformat) (3.2.0)\n",
      "Requirement already satisfied, skipping upgrade: traitlets>=4.1 in /usr/local/lib/python3.6/site-packages (from nbformat) (4.3.3)\n",
      "Requirement already satisfied, skipping upgrade: ipython-genutils in /usr/local/lib/python3.6/site-packages (from nbformat) (0.2.0)\n",
      "Requirement already satisfied, skipping upgrade: six>=1.11.0 in /usr/local/lib/python3.6/site-packages (from jsonschema!=2.5.0,>=2.4->nbformat) (1.15.0)\n",
      "Requirement already satisfied, skipping upgrade: importlib-metadata; python_version < \"3.8\" in /usr/local/lib/python3.6/site-packages (from jsonschema!=2.5.0,>=2.4->nbformat) (3.7.0)\n",
      "Requirement already satisfied, skipping upgrade: pyrsistent>=0.14.0 in /usr/local/lib/python3.6/site-packages (from jsonschema!=2.5.0,>=2.4->nbformat) (0.18.0)\n",
      "Requirement already satisfied, skipping upgrade: attrs>=17.4.0 in /usr/local/lib/python3.6/site-packages (from jsonschema!=2.5.0,>=2.4->nbformat) (20.3.0)\n",
      "Requirement already satisfied, skipping upgrade: setuptools in /usr/local/lib/python3.6/site-packages (from jsonschema!=2.5.0,>=2.4->nbformat) (54.0.0)\n",
      "Requirement already satisfied, skipping upgrade: decorator in /usr/local/lib/python3.6/site-packages (from traitlets>=4.1->nbformat) (4.4.2)\n",
      "Requirement already satisfied, skipping upgrade: typing-extensions>=3.6.4; python_version < \"3.8\" in /usr/local/lib/python3.6/site-packages (from importlib-metadata; python_version < \"3.8\"->jsonschema!=2.5.0,>=2.4->nbformat) (3.7.4.3)\n",
      "Requirement already satisfied, skipping upgrade: zipp>=0.5 in /usr/local/lib/python3.6/site-packages (from importlib-metadata; python_version < \"3.8\"->jsonschema!=2.5.0,>=2.4->nbformat) (3.4.0)\n",
      "\u001b[33mWARNING: You are using pip version 19.3.1; however, version 21.2.4 is available.\n",
      "You should consider upgrading via the 'pip install --upgrade pip' command.\u001b[0m\n",
      "Requirement already satisfied: plotly in /usr/local/lib/python3.6/site-packages (5.2.1)\n",
      "Requirement already satisfied: tenacity>=6.2.0 in /usr/local/lib/python3.6/site-packages (from plotly) (8.0.1)\n",
      "Requirement already satisfied: six in /usr/local/lib/python3.6/site-packages (from plotly) (1.15.0)\n",
      "\u001b[33mWARNING: You are using pip version 19.3.1; however, version 21.2.4 is available.\n",
      "You should consider upgrading via the 'pip install --upgrade pip' command.\u001b[0m\n",
      "Requirement already satisfied: smdebug in /usr/local/lib/python3.6/site-packages (0.9.4)\n",
      "Requirement already satisfied: boto3>=1.10.32 in /usr/local/lib/python3.6/site-packages (from smdebug) (1.17.20)\n",
      "Requirement already satisfied: numpy<2.0.0,>1.16.0 in /usr/local/lib/python3.6/site-packages (from smdebug) (1.19.1)\n",
      "Requirement already satisfied: packaging in /usr/local/lib/python3.6/site-packages (from smdebug) (20.9)\n",
      "Requirement already satisfied: protobuf>=3.6.0 in /usr/local/lib/python3.6/site-packages (from smdebug) (3.15.4)\n",
      "Requirement already satisfied: botocore<1.21.0,>=1.20.20 in /usr/local/lib/python3.6/site-packages (from boto3>=1.10.32->smdebug) (1.20.20)\n",
      "Requirement already satisfied: jmespath<1.0.0,>=0.7.1 in /usr/local/lib/python3.6/site-packages (from boto3>=1.10.32->smdebug) (0.10.0)\n",
      "Requirement already satisfied: s3transfer<0.4.0,>=0.3.0 in /usr/local/lib/python3.6/site-packages (from boto3>=1.10.32->smdebug) (0.3.4)\n",
      "Requirement already satisfied: pyparsing>=2.0.2 in /usr/local/lib/python3.6/site-packages (from packaging->smdebug) (2.4.7)\n",
      "Requirement already satisfied: six>=1.9 in /usr/local/lib/python3.6/site-packages (from protobuf>=3.6.0->smdebug) (1.15.0)\n",
      "Requirement already satisfied: urllib3<1.27,>=1.25.4 in /usr/local/lib/python3.6/site-packages (from botocore<1.21.0,>=1.20.20->boto3>=1.10.32->smdebug) (1.25.11)\n",
      "Requirement already satisfied: python-dateutil<3.0.0,>=2.1 in /usr/local/lib/python3.6/site-packages (from botocore<1.21.0,>=1.20.20->boto3>=1.10.32->smdebug) (2.8.0)\n",
      "\u001b[33mWARNING: You are using pip version 19.3.1; however, version 21.2.4 is available.\n",
      "You should consider upgrading via the 'pip install --upgrade pip' command.\u001b[0m\n"
     ]
    }
   ],
   "source": [
    "! pip install --upgrade nbformat\n",
    "! python -m pip install plotly\n",
    "! python -m pip install smdebug\n"
   ]
  },
  {
   "cell_type": "markdown",
   "metadata": {},
   "source": [
    "### Configure and run the training job\n",
    "\n",
    "Now we'll call the Sagemaker MXNet Estimator to kick off a training job with Debugger attached to it.\n",
    "\n",
    "The `entry_point_script` points to the MXNet training script."
   ]
  },
  {
   "cell_type": "code",
   "execution_count": 2,
   "metadata": {},
   "outputs": [
    {
     "name": "stderr",
     "output_type": "stream",
     "text": [
      "train_instance_type has been renamed in sagemaker>=2.\n",
      "See: https://sagemaker.readthedocs.io/en/stable/v2.html for details.\n",
      "train_instance_count has been renamed in sagemaker>=2.\n",
      "See: https://sagemaker.readthedocs.io/en/stable/v2.html for details.\n",
      "train_instance_type has been renamed in sagemaker>=2.\n",
      "See: https://sagemaker.readthedocs.io/en/stable/v2.html for details.\n",
      "train_max_run has been renamed in sagemaker>=2.\n",
      "See: https://sagemaker.readthedocs.io/en/stable/v2.html for details.\n"
     ]
    }
   ],
   "source": [
    "import os\n",
    "import sagemaker\n",
    "from sagemaker.debugger import DebuggerHookConfig, CollectionConfig\n",
    "from sagemaker.mxnet import MXNet\n",
    "\n",
    "sagemaker_session = sagemaker.Session()\n",
    "\n",
    "entry_point_script = \"./scripts/mxnet_gluon_save_all_demo.py\"\n",
    "hyperparameters = {\"batch-size\": 256}\n",
    "base_job_name = \"mnist-tensor-plot\"\n",
    "\n",
    "# Make sure to set this to your bucket and location\n",
    "BUCKET_NAME = 'dl-workshop-aug2021'\n",
    "LOCATION_IN_BUCKET = \"debugger\"\n",
    "s3_bucket_for_tensors = \"s3://{BUCKET_NAME}/{LOCATION_IN_BUCKET}\".format(\n",
    "    BUCKET_NAME=BUCKET_NAME, LOCATION_IN_BUCKET=LOCATION_IN_BUCKET\n",
    ")\n",
    "\n",
    "estimator = MXNet(\n",
    "    role=sagemaker.get_execution_role(),\n",
    "    base_job_name=base_job_name,\n",
    "    train_instance_count=1,\n",
    "    train_instance_type=\"ml.m4.xlarge\",\n",
    "    entry_point=entry_point_script,\n",
    "    framework_version=\"1.6.0\",\n",
    "    train_max_run=3600,\n",
    "    sagemaker_session=sagemaker_session,\n",
    "    py_version=\"py3\",\n",
    "    debugger_hook_config=DebuggerHookConfig(\n",
    "        s3_output_path=s3_bucket_for_tensors,  # Required\n",
    "        collection_configs=[\n",
    "            CollectionConfig(\n",
    "                name=\"all_tensors\", parameters={\"include_regex\": \".*\", \"save_steps\": \"1, 2, 3\"}\n",
    "            )\n",
    "        ],\n",
    "    ),\n",
    ")"
   ]
  },
  {
   "cell_type": "markdown",
   "metadata": {},
   "source": [
    "Estimator described above will save all tensors of all layers during steps 1, 2 and 3. Now, let's start the training job:"
   ]
  },
  {
   "cell_type": "code",
   "execution_count": 3,
   "metadata": {},
   "outputs": [
    {
     "name": "stdout",
     "output_type": "stream",
     "text": [
      "2021-08-18 16:17:37 Starting - Starting the training job...\n",
      "2021-08-18 16:18:00 Starting - Launching requested ML instancesProfilerReport-1629303456: InProgress\n",
      "...\n",
      "2021-08-18 16:18:34 Starting - Preparing the instances for training.........\n",
      "2021-08-18 16:20:06 Downloading - Downloading input data...\n",
      "2021-08-18 16:20:22 Training - Downloading the training image..\u001b[34m2021-08-18 16:20:46,614 sagemaker-training-toolkit INFO     Imported framework sagemaker_mxnet_container.training\u001b[0m\n",
      "\u001b[34m2021-08-18 16:20:46,616 sagemaker-training-toolkit INFO     No GPUs detected (normal if no gpus installed)\u001b[0m\n",
      "\u001b[34m2021-08-18 16:20:46,631 sagemaker_mxnet_container.training INFO     MXNet training environment: {'SM_HOSTS': '[\"algo-1\"]', 'SM_NETWORK_INTERFACE_NAME': 'eth0', 'SM_HPS': '{}', 'SM_USER_ENTRY_POINT': 'mxnet_gluon_save_all_demo.py', 'SM_FRAMEWORK_PARAMS': '{}', 'SM_RESOURCE_CONFIG': '{\"current_host\":\"algo-1\",\"hosts\":[\"algo-1\"],\"network_interface_name\":\"eth0\"}', 'SM_INPUT_DATA_CONFIG': '{}', 'SM_OUTPUT_DATA_DIR': '/opt/ml/output/data', 'SM_CHANNELS': '[]', 'SM_CURRENT_HOST': 'algo-1', 'SM_MODULE_NAME': 'mxnet_gluon_save_all_demo', 'SM_LOG_LEVEL': '20', 'SM_FRAMEWORK_MODULE': 'sagemaker_mxnet_container.training:main', 'SM_INPUT_DIR': '/opt/ml/input', 'SM_INPUT_CONFIG_DIR': '/opt/ml/input/config', 'SM_OUTPUT_DIR': '/opt/ml/output', 'SM_NUM_CPUS': '4', 'SM_NUM_GPUS': '0', 'SM_MODEL_DIR': '/opt/ml/model', 'SM_MODULE_DIR': 's3://sagemaker-us-west-2-770499558699/mnist-tensor-plot-2021-08-18-16-17-36-655/source/sourcedir.tar.gz', 'SM_TRAINING_ENV': '{\"additional_framework_parameters\":{},\"channel_input_dirs\":{},\"current_host\":\"algo-1\",\"framework_module\":\"sagemaker_mxnet_container.training:main\",\"hosts\":[\"algo-1\"],\"hyperparameters\":{},\"input_config_dir\":\"/opt/ml/input/config\",\"input_data_config\":{},\"input_dir\":\"/opt/ml/input\",\"is_master\":true,\"job_name\":\"mnist-tensor-plot-2021-08-18-16-17-36-655\",\"log_level\":20,\"master_hostname\":\"algo-1\",\"model_dir\":\"/opt/ml/model\",\"module_dir\":\"s3://sagemaker-us-west-2-770499558699/mnist-tensor-plot-2021-08-18-16-17-36-655/source/sourcedir.tar.gz\",\"module_name\":\"mxnet_gluon_save_all_demo\",\"network_interface_name\":\"eth0\",\"num_cpus\":4,\"num_gpus\":0,\"output_data_dir\":\"/opt/ml/output/data\",\"output_dir\":\"/opt/ml/output\",\"output_intermediate_dir\":\"/opt/ml/output/intermediate\",\"resource_config\":{\"current_host\":\"algo-1\",\"hosts\":[\"algo-1\"],\"network_interface_name\":\"eth0\"},\"user_entry_point\":\"mxnet_gluon_save_all_demo.py\"}', 'SM_USER_ARGS': '[]', 'SM_OUTPUT_INTERMEDIATE_DIR': '/opt/ml/output/intermediate'}\u001b[0m\n",
      "\u001b[34m2021-08-18 16:20:47,046 sagemaker-training-toolkit INFO     No GPUs detected (normal if no gpus installed)\u001b[0m\n",
      "\u001b[34m2021-08-18 16:20:50,090 sagemaker-training-toolkit INFO     No GPUs detected (normal if no gpus installed)\u001b[0m\n",
      "\u001b[34m2021-08-18 16:20:50,106 sagemaker-training-toolkit INFO     No GPUs detected (normal if no gpus installed)\u001b[0m\n",
      "\u001b[34m2021-08-18 16:20:50,120 sagemaker-training-toolkit INFO     Invoking user script\n",
      "\u001b[0m\n",
      "\u001b[34mTraining Env:\n",
      "\u001b[0m\n",
      "\u001b[34m{\n",
      "    \"additional_framework_parameters\": {},\n",
      "    \"channel_input_dirs\": {},\n",
      "    \"current_host\": \"algo-1\",\n",
      "    \"framework_module\": \"sagemaker_mxnet_container.training:main\",\n",
      "    \"hosts\": [\n",
      "        \"algo-1\"\n",
      "    ],\n",
      "    \"hyperparameters\": {},\n",
      "    \"input_config_dir\": \"/opt/ml/input/config\",\n",
      "    \"input_data_config\": {},\n",
      "    \"input_dir\": \"/opt/ml/input\",\n",
      "    \"is_master\": true,\n",
      "    \"job_name\": \"mnist-tensor-plot-2021-08-18-16-17-36-655\",\n",
      "    \"log_level\": 20,\n",
      "    \"master_hostname\": \"algo-1\",\n",
      "    \"model_dir\": \"/opt/ml/model\",\n",
      "    \"module_dir\": \"s3://sagemaker-us-west-2-770499558699/mnist-tensor-plot-2021-08-18-16-17-36-655/source/sourcedir.tar.gz\",\n",
      "    \"module_name\": \"mxnet_gluon_save_all_demo\",\n",
      "    \"network_interface_name\": \"eth0\",\n",
      "    \"num_cpus\": 4,\n",
      "    \"num_gpus\": 0,\n",
      "    \"output_data_dir\": \"/opt/ml/output/data\",\n",
      "    \"output_dir\": \"/opt/ml/output\",\n",
      "    \"output_intermediate_dir\": \"/opt/ml/output/intermediate\",\n",
      "    \"resource_config\": {\n",
      "        \"current_host\": \"algo-1\",\n",
      "        \"hosts\": [\n",
      "            \"algo-1\"\n",
      "        ],\n",
      "        \"network_interface_name\": \"eth0\"\n",
      "    },\n",
      "    \"user_entry_point\": \"mxnet_gluon_save_all_demo.py\"\u001b[0m\n",
      "\u001b[34m}\n",
      "\u001b[0m\n",
      "\u001b[34mEnvironment variables:\n",
      "\u001b[0m\n",
      "\u001b[34mSM_HOSTS=[\"algo-1\"]\u001b[0m\n",
      "\u001b[34mSM_NETWORK_INTERFACE_NAME=eth0\u001b[0m\n",
      "\u001b[34mSM_HPS={}\u001b[0m\n",
      "\u001b[34mSM_USER_ENTRY_POINT=mxnet_gluon_save_all_demo.py\u001b[0m\n",
      "\u001b[34mSM_FRAMEWORK_PARAMS={}\u001b[0m\n",
      "\u001b[34mSM_RESOURCE_CONFIG={\"current_host\":\"algo-1\",\"hosts\":[\"algo-1\"],\"network_interface_name\":\"eth0\"}\u001b[0m\n",
      "\u001b[34mSM_INPUT_DATA_CONFIG={}\u001b[0m\n",
      "\u001b[34mSM_OUTPUT_DATA_DIR=/opt/ml/output/data\u001b[0m\n",
      "\u001b[34mSM_CHANNELS=[]\u001b[0m\n",
      "\u001b[34mSM_CURRENT_HOST=algo-1\u001b[0m\n",
      "\u001b[34mSM_MODULE_NAME=mxnet_gluon_save_all_demo\u001b[0m\n",
      "\u001b[34mSM_LOG_LEVEL=20\u001b[0m\n",
      "\u001b[34mSM_FRAMEWORK_MODULE=sagemaker_mxnet_container.training:main\u001b[0m\n",
      "\u001b[34mSM_INPUT_DIR=/opt/ml/input\u001b[0m\n",
      "\u001b[34mSM_INPUT_CONFIG_DIR=/opt/ml/input/config\u001b[0m\n",
      "\u001b[34mSM_OUTPUT_DIR=/opt/ml/output\u001b[0m\n",
      "\u001b[34mSM_NUM_CPUS=4\u001b[0m\n",
      "\u001b[34mSM_NUM_GPUS=0\u001b[0m\n",
      "\u001b[34mSM_MODEL_DIR=/opt/ml/model\u001b[0m\n",
      "\u001b[34mSM_MODULE_DIR=s3://sagemaker-us-west-2-770499558699/mnist-tensor-plot-2021-08-18-16-17-36-655/source/sourcedir.tar.gz\u001b[0m\n",
      "\u001b[34mSM_TRAINING_ENV={\"additional_framework_parameters\":{},\"channel_input_dirs\":{},\"current_host\":\"algo-1\",\"framework_module\":\"sagemaker_mxnet_container.training:main\",\"hosts\":[\"algo-1\"],\"hyperparameters\":{},\"input_config_dir\":\"/opt/ml/input/config\",\"input_data_config\":{},\"input_dir\":\"/opt/ml/input\",\"is_master\":true,\"job_name\":\"mnist-tensor-plot-2021-08-18-16-17-36-655\",\"log_level\":20,\"master_hostname\":\"algo-1\",\"model_dir\":\"/opt/ml/model\",\"module_dir\":\"s3://sagemaker-us-west-2-770499558699/mnist-tensor-plot-2021-08-18-16-17-36-655/source/sourcedir.tar.gz\",\"module_name\":\"mxnet_gluon_save_all_demo\",\"network_interface_name\":\"eth0\",\"num_cpus\":4,\"num_gpus\":0,\"output_data_dir\":\"/opt/ml/output/data\",\"output_dir\":\"/opt/ml/output\",\"output_intermediate_dir\":\"/opt/ml/output/intermediate\",\"resource_config\":{\"current_host\":\"algo-1\",\"hosts\":[\"algo-1\"],\"network_interface_name\":\"eth0\"},\"user_entry_point\":\"mxnet_gluon_save_all_demo.py\"}\u001b[0m\n",
      "\u001b[34mSM_USER_ARGS=[]\u001b[0m\n",
      "\u001b[34mSM_OUTPUT_INTERMEDIATE_DIR=/opt/ml/output/intermediate\u001b[0m\n",
      "\u001b[34mPYTHONPATH=/opt/ml/code:/usr/local/bin:/usr/local/lib/python36.zip:/usr/local/lib/python3.6:/usr/local/lib/python3.6/lib-dynload:/usr/local/lib/python3.6/site-packages\n",
      "\u001b[0m\n",
      "\u001b[34mInvoking script with the following command:\n",
      "\u001b[0m\n",
      "\u001b[34m/usr/local/bin/python3.6 mxnet_gluon_save_all_demo.py\n",
      "\n",
      "\u001b[0m\n",
      "\n",
      "2021-08-18 16:21:00 Training - Training image download completed. Training in progress.\u001b[34mDownloading /root/.mxnet/datasets/mnist/train-images-idx3-ubyte.gz from https://apache-mxnet.s3-accelerate.dualstack.amazonaws.com/gluon/dataset/mnist/train-images-idx3-ubyte.gz...\u001b[0m\n",
      "\u001b[34mDownloading /root/.mxnet/datasets/mnist/train-labels-idx1-ubyte.gz from https://apache-mxnet.s3-accelerate.dualstack.amazonaws.com/gluon/dataset/mnist/train-labels-idx1-ubyte.gz...\u001b[0m\n",
      "\u001b[34mDownloading /root/.mxnet/datasets/fashion-mnist/t10k-images-idx3-ubyte.gz from https://apache-mxnet.s3-accelerate.dualstack.amazonaws.com/gluon/dataset/fashion-mnist/t10k-images-idx3-ubyte.gz...\u001b[0m\n",
      "\u001b[34mDownloading /root/.mxnet/datasets/fashion-mnist/t10k-labels-idx1-ubyte.gz from https://apache-mxnet.s3-accelerate.dualstack.amazonaws.com/gluon/dataset/fashion-mnist/t10k-labels-idx1-ubyte.gz...\u001b[0m\n",
      "\u001b[34m[2021-08-18 16:20:55.704 ip-10-0-141-59.us-west-2.compute.internal:17 INFO json_config.py:90] Creating hook from json_config at /opt/ml/input/config/debughookconfig.json.\u001b[0m\n",
      "\u001b[34m[2021-08-18 16:20:55.705 ip-10-0-141-59.us-west-2.compute.internal:17 INFO hook.py:193] tensorboard_dir has not been set for the hook. SMDebug will not be exporting tensorboard summaries.\u001b[0m\n",
      "\u001b[34m[2021-08-18 16:20:55.705 ip-10-0-141-59.us-west-2.compute.internal:17 INFO hook.py:238] Saving to /opt/ml/output/tensors\u001b[0m\n",
      "\u001b[34m[2021-08-18 16:20:55.705 ip-10-0-141-59.us-west-2.compute.internal:17 INFO state_store.py:67] The checkpoint config file /opt/ml/input/config/checkpointconfig.json does not exist.\u001b[0m\n",
      "\u001b[34m[2021-08-18 16:20:55.737 ip-10-0-141-59.us-west-2.compute.internal:17 INFO hook.py:398] Monitoring the collections: all_tensors, losses\u001b[0m\n",
      "\u001b[34m[2021-08-18 16:20:55.738 ip-10-0-141-59.us-west-2.compute.internal:17 INFO hook.py:461] Hook is writing from the hook with pid: 17\n",
      "\u001b[0m\n",
      "\u001b[34m[2021-08-18 16:20:55.739 ip-10-0-141-59.us-west-2.compute.internal:17 WARNING hook.py:978] var is not NDArray or list or tuple of NDArrays, module_name:conv0_relu Symbol\u001b[0m\n",
      "\u001b[34m[2021-08-18 16:20:55.739 ip-10-0-141-59.us-west-2.compute.internal:17 WARNING hook.py:978] var is not NDArray or list or tuple of NDArrays, module_name:conv0_relu Symbol\u001b[0m\n",
      "\u001b[34m[2021-08-18 16:20:55.871 ip-10-0-141-59.us-west-2.compute.internal:17 WARNING hook.py:978] var is not NDArray or list or tuple of NDArrays, module_name:conv1_relu Symbol\u001b[0m\n",
      "\u001b[34m[2021-08-18 16:20:55.871 ip-10-0-141-59.us-west-2.compute.internal:17 WARNING hook.py:978] var is not NDArray or list or tuple of NDArrays, module_name:conv1_relu Symbol\u001b[0m\n",
      "\u001b[34m[2021-08-18 16:20:55.902 ip-10-0-141-59.us-west-2.compute.internal:17 WARNING hook.py:978] var is not NDArray or list or tuple of NDArrays, module_name:dense0_relu Symbol\u001b[0m\n",
      "\u001b[34m[2021-08-18 16:20:55.902 ip-10-0-141-59.us-west-2.compute.internal:17 WARNING hook.py:978] var is not NDArray or list or tuple of NDArrays, module_name:dense0_relu Symbol\u001b[0m\n",
      "\u001b[34m[2021-08-18 16:20:55.910 ip-10-0-141-59.us-west-2.compute.internal:17 WARNING hook.py:978] var is not NDArray or list or tuple of NDArrays, module_name:dense1_relu Symbol\u001b[0m\n",
      "\u001b[34m[2021-08-18 16:20:55.910 ip-10-0-141-59.us-west-2.compute.internal:17 WARNING hook.py:978] var is not NDArray or list or tuple of NDArrays, module_name:dense1_relu Symbol\u001b[0m\n",
      "\u001b[34m[2021-08-18 16:20:55.918 ip-10-0-141-59.us-west-2.compute.internal:17 INFO hook.py:236] Registering hook for block softmaxcrossentropyloss0\u001b[0m\n",
      "\u001b[34mEpoch 0: loss 0.432, train acc 0.865, test acc 0.050, in 18.8 sec\u001b[0m\n",
      "\u001b[34m2021-08-18 16:21:13,663 sagemaker-training-toolkit INFO     Reporting training SUCCESS\u001b[0m\n",
      "\n",
      "2021-08-18 16:21:21 Uploading - Uploading generated training model\n",
      "2021-08-18 16:21:21 Completed - Training job completed\n",
      "Training seconds: 75\n",
      "Billable seconds: 75\n"
     ]
    }
   ],
   "source": [
    "estimator.fit()"
   ]
  },
  {
   "cell_type": "markdown",
   "metadata": {},
   "source": [
    "### Get S3 location of tensors"
   ]
  },
  {
   "cell_type": "markdown",
   "metadata": {},
   "source": [
    "Now we can retrieve the S3 location of the tensors:"
   ]
  },
  {
   "cell_type": "code",
   "execution_count": 4,
   "metadata": {},
   "outputs": [
    {
     "name": "stdout",
     "output_type": "stream",
     "text": [
      "S3 location of tensors is:  s3://dl-workshop-aug2021/debugger/mnist-tensor-plot-2021-08-18-16-17-36-655/debug-output\n"
     ]
    }
   ],
   "source": [
    "tensors_path = estimator.latest_job_debugger_artifacts_path()\n",
    "print(\"S3 location of tensors is: \", tensors_path)"
   ]
  },
  {
   "cell_type": "markdown",
   "metadata": {},
   "source": [
    "### Download tensors from S3\n",
    "\n",
    "Next we download the tensors from S3, so that we can visualize them in the notebook."
   ]
  },
  {
   "cell_type": "code",
   "execution_count": 5,
   "metadata": {},
   "outputs": [
    {
     "name": "stdout",
     "output_type": "stream",
     "text": [
      "Downloaded tensors into folder:  debug-output\n"
     ]
    }
   ],
   "source": [
    "folder_name = tensors_path.split(\"/\")[-1]\n",
    "os.system(\"aws s3 cp --recursive \" + tensors_path + \" \" + folder_name)\n",
    "print(\"Downloaded tensors into folder: \", folder_name)"
   ]
  },
  {
   "cell_type": "markdown",
   "metadata": {},
   "source": [
    "### Visualize\n",
    "The main purpose of this class (TensorPlot) is to visualise the tensors in your network. This could be to determine dead or saturated activations, or the features maps the network.\n",
    "\n",
    "To use this class (TensorPlot), you will need to supply the argument regex with the tensors you are interested in. e.g., if you are interested in activation outputs, then you need to supply the following regex .*relu|.*tanh|.*sigmoid.\n",
    "\n",
    "Another important argument is the `sample_batch_id`, which allows you to specify the index of the batch size to display. For example, given an input tensor of size (batch_size, channel, width, height), `sample_batch_id = n` will display (n, channel, width, height). If you set sample_batch_id = -1 then the tensors will be summed over the batch dimension (i.e., `np.sum(tensor, axis=0)`). If batch_sample_id is None then each sample will be plotted as separate layer in the figure.\n",
    "\n",
    "Here are some interesting use cases:\n",
    "\n",
    "1) If you want to determine dead or saturated activations for instance ReLus that are always outputting zero, then you would want to sum the batch dimension (sample_batch_id=-1). The sum gives an indication which parts of the network are inactive across a batch.\n",
    "\n",
    "2) If you are interested in the feature maps for the first image in the batch, then you should provide batch_sample_id=0. This can be helpful if your model is not performing well for certain set of samples and you want to understand which activations are leading to misprediction.\n",
    "\n",
    "An example visualization of layer outputs:\n",
    "![](./images/tensorplot.gif)\n",
    "\n",
    "\n",
    "`TensorPlot` normalizes tensor values to the range 0 to 1 which means colorscales are the same across layers. Blue indicates value close to 0 and yellow indicates values close to 1. This class has been designed to plot convolutional networks that take 2D images as input and predict classes or produce output images. You can use this  for other types of networks like RNNs, but you may have to adjust the class as it is currently neglecting tensors that have more than 4 dimensions.\n",
    "\n",
    "Let's plot Relu output activations for the given MNIST training example."
   ]
  },
  {
   "cell_type": "code",
   "execution_count": 6,
   "metadata": {},
   "outputs": [
    {
     "data": {
      "text/html": [
       "        <script type=\"text/javascript\">\n",
       "        window.PlotlyConfig = {MathJaxConfig: 'local'};\n",
       "        if (window.MathJax) {MathJax.Hub.Config({SVG: {font: \"STIX-Web\"}});}\n",
       "        if (typeof require !== 'undefined') {\n",
       "        require.undef(\"plotly\");\n",
       "        requirejs.config({\n",
       "            paths: {\n",
       "                'plotly': ['https://cdn.plot.ly/plotly-2.3.1.min']\n",
       "            }\n",
       "        });\n",
       "        require(['plotly'], function(Plotly) {\n",
       "            window._Plotly = Plotly;\n",
       "        });\n",
       "        }\n",
       "        </script>\n",
       "        "
      ]
     },
     "metadata": {},
     "output_type": "display_data"
    },
    {
     "name": "stdout",
     "output_type": "stream",
     "text": [
      "[2021-08-18 16:21:52.679 mxnet-1-6-cpu-py36-ml-t3-medium-e13e5c32ffa52b276f0ed89d7b7a:161 INFO local_trial.py:35] Loading trial debug-output at path debug-output\n",
      "[2021-08-18 16:21:52.737 mxnet-1-6-cpu-py36-ml-t3-medium-e13e5c32ffa52b276f0ed89d7b7a:161 INFO trial.py:198] Training has ended, will refresh one final time in 1 sec.\n",
      "[2021-08-18 16:21:53.743 mxnet-1-6-cpu-py36-ml-t3-medium-e13e5c32ffa52b276f0ed89d7b7a:161 INFO trial.py:210] Loaded all steps\n"
     ]
    }
   ],
   "source": [
    "import tensor_plot\n",
    "\n",
    "visualization = tensor_plot.TensorPlot(\n",
    "    regex=\".*relu_output\",\n",
    "    path=folder_name,\n",
    "    steps=10,\n",
    "    batch_sample_id=0,\n",
    "    color_channel=1,\n",
    "    title=\"Relu outputs\",\n",
    "    label=\".*sequential0_input_0\",\n",
    "    prediction=\".*sequential0_output_0\",\n",
    ")"
   ]
  },
  {
   "cell_type": "markdown",
   "metadata": {},
   "source": [
    "If we plot too many layers, it can crash the notebook. If you encounter performance or out of memory issues, then either try to reduce the layers to plot by changing the `regex` or run this Notebook in JupyterLab instead of Jupyter. \n",
    "\n",
    "In the below cell we vizualize outputs of all layers, including final classification. Please note that because training job ran only for 1 epoch classification accuracy is not high."
   ]
  },
  {
   "cell_type": "code",
   "execution_count": 7,
   "metadata": {},
   "outputs": [
    {
     "data": {
      "text/html": [
       "<iframe\n",
       "    scrolling=\"no\"\n",
       "    width=\"1020px\"\n",
       "    height=\"820\"\n",
       "    src=\"iframe_figures/figure_7.html\"\n",
       "    frameborder=\"0\"\n",
       "    allowfullscreen\n",
       "></iframe>\n"
      ]
     },
     "metadata": {},
     "output_type": "display_data"
    }
   ],
   "source": [
    "visualization.fig.show(renderer=\"iframe\")"
   ]
  },
  {
   "cell_type": "code",
   "execution_count": 8,
   "metadata": {},
   "outputs": [
    {
     "name": "stdout",
     "output_type": "stream",
     "text": [
      "attrs==20.3.0\n",
      "aws-mxnet-mkl==1.6.0\n",
      "awscli==1.19.20\n",
      "backcall==0.2.0\n",
      "bcrypt==3.2.0\n",
      "boto3==1.17.20\n",
      "botocore==1.20.20\n",
      "certifi==2020.12.5\n",
      "cffi==1.14.5\n",
      "chardet==3.0.4\n",
      "cloudpickle==1.6.0\n",
      "colorama==0.4.3\n",
      "cryptography==3.4.6\n",
      "cycler==0.10.0\n",
      "Cython==0.29.22\n",
      "decorator==4.4.2\n",
      "dgl==0.4.3.post2\n",
      "docutils==0.15.2\n",
      "gevent==21.1.2\n",
      "gluoncv==0.6.0\n",
      "gluonnlp==0.10.0\n",
      "google-pasta==0.2.0\n",
      "graphviz==0.8.4\n",
      "greenlet==1.0.0\n",
      "h5py==2.10.0\n",
      "horovod==0.19.5\n",
      "idna==2.8\n",
      "importlib-metadata==3.7.0\n",
      "inotify-simple==1.2.1\n",
      "ipykernel==5.5.5\n",
      "ipython==7.16.1\n",
      "ipython-genutils==0.2.0\n",
      "jedi==0.18.0\n",
      "jmespath==0.10.0\n",
      "jsonschema==3.2.0\n",
      "jupyter-client==6.2.0\n",
      "jupyter-core==4.7.1\n",
      "Keras-Applications==1.0.8\n",
      "keras-mxnet==2.2.4.2\n",
      "Keras-Preprocessing==1.1.2\n",
      "kiwisolver==1.3.1\n",
      "matplotlib==3.3.4\n",
      "mpi4py==3.0.2\n",
      "nbformat==5.1.3\n",
      "nest-asyncio==1.5.1\n",
      "networkx==2.5\n",
      "numpy==1.19.1\n",
      "onnx==1.6.0\n",
      "packaging==20.9\n",
      "pandas==0.25.1\n",
      "paramiko==2.7.2\n",
      "parso==0.8.2\n",
      "pexpect==4.8.0\n",
      "pickleshare==0.7.5\n",
      "Pillow==8.1.1\n",
      "plotly==5.2.1\n",
      "portalocker==2.2.1\n",
      "prompt-toolkit==3.0.19\n",
      "protobuf==3.15.4\n",
      "protobuf3-to-dict==0.1.5\n",
      "psutil==5.8.0\n",
      "ptyprocess==0.7.0\n",
      "pyasn1==0.4.8\n",
      "pycparser==2.20\n",
      "Pygments==2.9.0\n",
      "PyNaCl==1.4.0\n",
      "pyparsing==2.4.7\n",
      "pyrsistent==0.18.0\n",
      "python-dateutil==2.8.0\n",
      "pytz==2021.1\n",
      "PyYAML==5.4.1\n",
      "pyzmq==19.0.0\n",
      "requests==2.22.0\n",
      "retrying==1.3.3\n",
      "rsa==4.7.2\n",
      "s3transfer==0.3.4\n",
      "sagemaker==2.28.0\n",
      "sagemaker-experiments==0.1.28\n",
      "sagemaker-mxnet-training==4.3.0\n",
      "sagemaker-training==3.7.3\n",
      "scikit-learn==0.20.4\n",
      "scipy==1.2.2\n",
      "six==1.15.0\n",
      "smdebug==0.9.4\n",
      "smdebug-rulesconfig==1.0.1\n",
      "tenacity==8.0.1\n",
      "tornado==6.0.4\n",
      "tqdm==4.39.0\n",
      "traitlets==4.3.3\n",
      "typing-extensions==3.7.4.3\n",
      "urllib3==1.25.11\n",
      "wcwidth==0.2.5\n",
      "Werkzeug==1.0.1\n",
      "zipp==3.4.0\n",
      "zope.event==4.5.0\n",
      "zope.interface==5.2.0\n"
     ]
    }
   ],
   "source": [
    "!pip freeze"
   ]
  },
  {
   "cell_type": "markdown",
   "metadata": {},
   "source": [
    "For additional example of working with debugging tensors and visualizing them in real time please feel free to try it out at [MXNet realtime analysis](../mxnet_realtime_analysis/mxnet-realtime-analysis.ipynb) example."
   ]
  }
 ],
 "metadata": {
  "hide_input": false,
  "instance_type": "ml.t3.medium",
  "kernelspec": {
   "display_name": "Python 3 (MXNet 1.6 Python 3.6 CPU Optimized)",
   "language": "python",
   "name": "python3__SAGEMAKER_INTERNAL__arn:aws:sagemaker:us-west-2:236514542706:image/mxnet-1.6-cpu-py36"
  },
  "language_info": {
   "codemirror_mode": {
    "name": "ipython",
    "version": 3
   },
   "file_extension": ".py",
   "mimetype": "text/x-python",
   "name": "python",
   "nbconvert_exporter": "python",
   "pygments_lexer": "ipython3",
   "version": "3.6.13"
  }
 },
 "nbformat": 4,
 "nbformat_minor": 4
}
